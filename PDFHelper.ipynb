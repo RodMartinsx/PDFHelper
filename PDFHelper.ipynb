{
 "cells": [
  {
   "cell_type": "code",
   "execution_count": 150,
   "metadata": {},
   "outputs": [],
   "source": [
    "# Import the Python SDK\n",
    "import google.generativeai as genai\n",
    "import PyPDF2\n",
    "\n",
    "GOOGLE_API_KEY=\"Insira sua API KEY\"\n",
    "genai.configure(api_key=GOOGLE_API_KEY)"
   ]
  },
  {
   "cell_type": "code",
   "execution_count": 151,
   "metadata": {},
   "outputs": [],
   "source": [
    "\n",
    "Generation_config = {\n",
    "    #Numero de respostas\n",
    "    \"candidate_count\": 1,\n",
    "    #Variacao das palavras no retorno do modelo\n",
    "    \"temperature\": 0.5,\n",
    "    #Top-p escolhe o menor conjunto possível de palavras cuja probabilidade cumulativa excede a probabilidade p\n",
    "    \"top_p\":0.5\n",
    "}"
   ]
  },
  {
   "cell_type": "code",
   "execution_count": 152,
   "metadata": {},
   "outputs": [],
   "source": [
    "#Configurando o modelo a ser utilizado \n",
    "model = genai.GenerativeModel(model_name='gemini-1.0-pro',\n",
    "                              generation_config=Generation_config)"
   ]
  },
  {
   "cell_type": "code",
   "execution_count": 153,
   "metadata": {},
   "outputs": [],
   "source": [
    "#Inputando o caminho do arquivo PDF \n",
    "\n",
    "pdf_path = input(\"Insira apenas o caminho do arquivo:\")+\".pdf\""
   ]
  },
  {
   "cell_type": "code",
   "execution_count": 154,
   "metadata": {},
   "outputs": [],
   "source": [
    "#Criando função para extrair texto página a página do pdf\n",
    "\n",
    "def extrair_texto(pdf_path):\n",
    "    texto = \"\"\n",
    "    with open(pdf_path, \"rb\") as arquivo_pdf:\n",
    "        leitor_pdf = PyPDF2.PdfReader(arquivo_pdf)\n",
    "        for pagina_num in range(len(leitor_pdf.pages)):\n",
    "            pagina = leitor_pdf.pages[pagina_num]\n",
    "            texto += pagina.extract_text()\n",
    "    return texto"
   ]
  },
  {
   "cell_type": "code",
   "execution_count": 155,
   "metadata": {},
   "outputs": [],
   "source": [
    "#Aplicando função em guardando em uma variavel \n",
    "text = extrair_texto(pdf_path)"
   ]
  },
  {
   "cell_type": "code",
   "execution_count": 156,
   "metadata": {},
   "outputs": [],
   "source": [
    "#Criando o prompt \n",
    "\n",
    "prompt = f\"\"\"\n",
    "Responda as perguntas atuais com base no texto anterior:\\n\"\n",
    "\n",
    "\n",
    "{text}\n",
    "\"\\n\"\n",
    "\"Question:\\n\"\n",
    "\"\"\""
   ]
  },
  {
   "cell_type": "code",
   "execution_count": 157,
   "metadata": {},
   "outputs": [],
   "source": [
    "#Criando um chatbot\n",
    "\n",
    "chat = model.start_chat(history=[])"
   ]
  },
  {
   "cell_type": "code",
   "execution_count": 158,
   "metadata": {},
   "outputs": [],
   "source": [
    "#Estrutura de chatbot\n",
    "\n",
    "question = input(\"Faça sua pergunta:\")\n",
    "prompt += question\n",
    "while prompt  != \"fim\":\n",
    "    response  = chat.send_message(prompt)\n",
    "    prompt = input(\"Faça sua pergunta:\")"
   ]
  },
  {
   "cell_type": "code",
   "execution_count": 161,
   "metadata": {},
   "outputs": [
    {
     "data": {
      "text/markdown": [
       "> **model**: **Fichamento Técnico**\n",
       "> \n",
       "> **Título:** Ciência de Dados e Big Data: O que isso significa para estudos populacionais e da saúde?\n",
       "> \n",
       "> **Autores:** Raphael de Freitas Saldanha, Christovam Barcellos, Marcel de Moraes Pedroso\n",
       "> \n",
       "> **Publicação:** Cadernos de Saúde Coletiva, 2021;29(esp.): 51-58\n",
       "> \n",
       "> **Resumo:**\n",
       "> \n",
       "> O artigo discute as implicações da ciência de dados e big data para estudos populacionais e de saúde. Argumenta-se que o volume de dados não é a característica mais promissora do big data, mas sim a complexidade e a possibilidade de integração com estudos convencionais por meio de equipes interdisciplinares.\n",
       "> \n",
       "> **Introdução:**\n",
       "> \n",
       "> * O termo \"big data\" está se tornando mais comum em publicações científicas e editais de pesquisa.\n",
       "> * A ciência de dados é um campo interdisciplinar que combina ciência da computação, matemática, estatística e conhecimento substantivo do problema em análise.\n",
       "> \n",
       "> **Big Data e Estudos Populacionais e de Saúde:**\n",
       "> \n",
       "> * O volume de dados em estudos populacionais e de saúde é menor do que em outras áreas científicas.\n",
       "> * A complexidade dos dados e a possibilidade de integração com outras fontes são mais importantes do que o volume.\n",
       "> * Técnicas de data mining permitem detectar padrões e divergências que não são identificados por abordagens tradicionais.\n",
       "> \n",
       "> **A Busca de Padrões e Divergências:**\n",
       "> \n",
       "> * A ciência de dados permite uma abordagem \"data-driven\" em vez de \"hypothesis-driven\".\n",
       "> * Isso permite identificar perfis de risco específicos e contextos particulares de risco.\n",
       "> * A análise de dados georreferenciados permite contextualizar eventos de saúde-doença com o território.\n",
       "> \n",
       "> **Big Data em Saúde, Acesso a Dados e Direito ao Sigilo:**\n",
       "> \n",
       "> * A integração de dados de diferentes sistemas de informação pode fornecer uma visão mais abrangente da saúde da população.\n",
       "> * No entanto, é necessário abordar preocupações com o uso indevido de dados individuais.\n",
       "> \n",
       "> **Desafios e Perspectivas Futuras:**\n",
       "> \n",
       "> * O uso de técnicas de big data pode superar modelos simplistas de classificação de riscos e identificação de desigualdades.\n",
       "> * É necessário preservar a autonomia e a capacidade de inovação da ciência em meio a ataques a pesquisas e tentativas de retrocesso na divulgação de dados.\n",
       "> \n",
       "> **Conclusão:**\n",
       "> \n",
       "> No âmbito da saúde e dos estudos populacionais, a ciência de dados e o big data oferecem novas ferramentas para análise, monitoramento, predição e estudo dos determinantes socioambientais e demográficos da saúde."
      ],
      "text/plain": [
       "<IPython.core.display.Markdown object>"
      ]
     },
     "metadata": {},
     "output_type": "display_data"
    },
    {
     "name": "stdout",
     "output_type": "stream",
     "text": [
      "-------------------------------------------\n"
     ]
    }
   ],
   "source": [
    "#Output dos modelo\n",
    "\n",
    "import textwrap\n",
    "from IPython.display import display\n",
    "from IPython.display import Markdown\n",
    "\n",
    "\n",
    "def to_markdown(text):\n",
    "  text = text.replace('•', '  *')\n",
    "  return Markdown(textwrap.indent(text, '> ', predicate=lambda _: True))\n",
    "\n",
    "#Imprimindo o histórico\n",
    "for message in chat.history[1:]:\n",
    "  display(to_markdown(f'**{message.role}**: {message.parts[0].text}'))\n",
    "  print('-------------------------------------------')"
   ]
  }
 ],
 "metadata": {
  "kernelspec": {
   "display_name": "base",
   "language": "python",
   "name": "python3"
  },
  "language_info": {
   "codemirror_mode": {
    "name": "ipython",
    "version": 3
   },
   "file_extension": ".py",
   "mimetype": "text/x-python",
   "name": "python",
   "nbconvert_exporter": "python",
   "pygments_lexer": "ipython3",
   "version": "3.10.9"
  }
 },
 "nbformat": 4,
 "nbformat_minor": 2
}
